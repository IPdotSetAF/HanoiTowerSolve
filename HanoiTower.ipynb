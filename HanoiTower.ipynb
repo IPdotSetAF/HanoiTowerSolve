{
 "cells": [
  {
   "cell_type": "code",
   "execution_count": 83,
   "id": "42c28594",
   "metadata": {},
   "outputs": [
    {
     "name": "stdout",
     "output_type": "stream",
     "text": [
      "   ||   \t   ||   \t   ||   \t\n",
      "   ||   \t   ||   \t  [==]  \t\n",
      "   ||   \t   ||   \t [====] \t\n",
      "   ||   \t   ||   \t[======]\t\n",
      "___||___\t___||___\t___||___\t\n",
      "Done :3\n",
      "..::IP.AF::..\n"
     ]
    }
   ],
   "source": [
    "discCount=int(input())\n",
    "\n",
    "listA =list(range(1,discCount+1))\n",
    "listA.reverse()\n",
    "listB=list()\n",
    "listC=list()\n",
    "\n",
    "printTowers(listA,listB,listC)\n",
    "\n",
    "solve(0,listA,listB,listC)\n",
    "\n",
    "print('Done :3\\n..::IP.AF::..')\n"
   ]
  },
  {
   "cell_type": "code",
   "execution_count": 80,
   "id": "a0422a39",
   "metadata": {},
   "outputs": [],
   "source": [
    "from IPython.display import clear_output\n",
    "\n",
    "def printTowers(A,B,C):\n",
    "    height=discCount+1\n",
    "    tower=list([''])\n",
    "\n",
    "    for i in range(3):\n",
    "        tower[0]+=f'{\"_\"*discCount}||{\"_\"*discCount}\\t'\n",
    "        \n",
    "    for i in range(height):\n",
    "       \n",
    "        if(i<len(A)):\n",
    "            tower.append(generateDisc(A[i]))\n",
    "        else:\n",
    "            tower.append(generateEmpty())\n",
    "            \n",
    "        if(i<len(B)):\n",
    "            tower[i+1]+=generateDisc(B[i])\n",
    "        else:\n",
    "            tower[i+1]+=generateEmpty()\n",
    "            \n",
    "        if(i<len(C)):\n",
    "            tower[i+1]+=generateDisc(C[i])\n",
    "        else:\n",
    "            tower[i+1]+=generateEmpty()\n",
    "        \n",
    "    tower.reverse()\n",
    "        \n",
    "    clear_output(wait=True)\n",
    "        \n",
    "    for line in tower:\n",
    "        print(line)"
   ]
  },
  {
   "cell_type": "code",
   "execution_count": 79,
   "id": "75d5c4e6",
   "metadata": {},
   "outputs": [],
   "source": [
    "def generateDisc(discSize):\n",
    "    space=discCount-discSize\n",
    "    return f'{\" \"* space}[{\"=\" * (discSize * 2)}]{\" \"* space}\\t'"
   ]
  },
  {
   "cell_type": "code",
   "execution_count": 78,
   "id": "e52fb8cf",
   "metadata": {},
   "outputs": [],
   "source": [
    "def generateEmpty():\n",
    "    return f'{\" \"* discCount}||{\" \"* discCount}\\t'"
   ]
  },
  {
   "cell_type": "code",
   "execution_count": 77,
   "id": "ced9c13e",
   "metadata": {},
   "outputs": [],
   "source": [
    "import time\n",
    "\n",
    "def solve(Index, From, By, To):\n",
    "    \n",
    "    if(Index== len(From)-1):\n",
    "        To.append(From[Index])\n",
    "        From.pop(Index)\n",
    "    else:\n",
    "        tmp=len(By)\n",
    "        solve(Index+1,From,To,By)\n",
    "        solve(Index,From,By,To)\n",
    "        solve(tmp,By,From,To)\n",
    "    \n",
    "    time.sleep(0.25)\n",
    "    printTowers(listA,listB,listC)\n",
    "    "
   ]
  }
 ],
 "metadata": {
  "kernelspec": {
   "display_name": "Python 3 (ipykernel)",
   "language": "python",
   "name": "python3"
  },
  "language_info": {
   "codemirror_mode": {
    "name": "ipython",
    "version": 3
   },
   "file_extension": ".py",
   "mimetype": "text/x-python",
   "name": "python",
   "nbconvert_exporter": "python",
   "pygments_lexer": "ipython3",
   "version": "3.9.12"
  }
 },
 "nbformat": 4,
 "nbformat_minor": 5
}
